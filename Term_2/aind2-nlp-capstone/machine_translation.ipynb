{
 "cells": [
  {
   "cell_type": "markdown",
   "metadata": {
    "collapsed": true
   },
   "source": [
    "# Artificial Intelligence Nanodegree\n",
    "## Machine Translation Project\n",
    "In this notebook, sections that end with **'(IMPLEMENTATION)'** in the header indicate that the following blocks of code will require additional functionality which you must provide. Please be sure to read the instructions carefully!\n",
    "\n",
    "## Introduction\n",
    "In this notebook, you will build a deep neural network that functions as part of an end-to-end machine translation pipeline. Your completed pipeline will accept English text as input and return the French translation.\n",
    "\n",
    "- **Preprocess** - You'll convert text to sequence of integers.\n",
    "- **Models** Create models which accepts a sequence of integers as input and returns a probability distribution over possible translations. After learning about the basic types of neural networks that are often used for machine translation, you will engage in your own investigations, to design your own model!\n",
    "- **Prediction** Run the model on English text.\n",
    "\n",
    "## Dataset\n",
    "We begin by investigating the dataset that will be used to train and evaluate your pipeline.  The most common datasets used for machine translation are from [WMT](http://www.statmt.org/).  However, that will take a long time to train a neural network on.  We'll be using a dataset we created for this project that contains a small vocabulary.  You'll be able to train your model in a reasonable time with this dataset.\n",
    "### Load Data\n",
    "The data is located in `data/small_vocab_en` and `data/small_vocab_fr`. The `small_vocab_en` file contains English sentences with their French translations in the `small_vocab_fr` file. Load the English and French data from these files from running the cell below."
   ]
  },
  {
   "cell_type": "code",
   "execution_count": 1,
   "metadata": {},
   "outputs": [
    {
     "name": "stdout",
     "output_type": "stream",
     "text": [
      "Dataset Loaded\n"
     ]
    }
   ],
   "source": [
    "import helper\n",
    "\n",
    "\n",
    "# Load English data\n",
    "english_sentences = helper.load_data('data/small_vocab_en')\n",
    "# Load French data\n",
    "french_sentences = helper.load_data('data/small_vocab_fr')\n",
    "\n",
    "print('Dataset Loaded')"
   ]
  },
  {
   "cell_type": "markdown",
   "metadata": {},
   "source": [
    "### Files\n",
    "Each line in `small_vocab_en` contains an English sentence with the respective translation in each line of `small_vocab_fr`.  View the first two lines from each file."
   ]
  },
  {
   "cell_type": "code",
   "execution_count": 2,
   "metadata": {},
   "outputs": [
    {
     "name": "stdout",
     "output_type": "stream",
     "text": [
      "small_vocab_en Line 1:  new jersey is sometimes quiet during autumn , and it is snowy in april .\n",
      "small_vocab_fr Line 1:  new jersey est parfois calme pendant l' automne , et il est neigeux en avril .\n",
      "small_vocab_en Line 2:  the united states is usually chilly during july , and it is usually freezing in november .\n",
      "small_vocab_fr Line 2:  les états-unis est généralement froid en juillet , et il gèle habituellement en novembre .\n"
     ]
    }
   ],
   "source": [
    "for sample_i in range(2):\n",
    "    print('small_vocab_en Line {}:  {}'.format(sample_i + 1, english_sentences[sample_i]))\n",
    "    print('small_vocab_fr Line {}:  {}'.format(sample_i + 1, french_sentences[sample_i]))"
   ]
  },
  {
   "cell_type": "markdown",
   "metadata": {},
   "source": [
    "From looking at the sentences, you can see they have been preprocessed already.  The puncuations have been delimited using spaces. All the text have been converted to lowercase.  This should save you some time, but the text requires more preprocessing.\n",
    "### Vocabulary\n",
    "The complexity of the problem is determined by the complexity of the vocabulary.  A more complex vocabulary is a more complex problem.  Let's look at the complexity of the dataset we'll be working with."
   ]
  },
  {
   "cell_type": "code",
   "execution_count": 3,
   "metadata": {},
   "outputs": [
    {
     "name": "stdout",
     "output_type": "stream",
     "text": [
      "1823250 English words.\n",
      "227 unique English words.\n",
      "10 Most common words in the English dataset:\n",
      "\"is\" \",\" \".\" \"in\" \"it\" \"during\" \"the\" \"but\" \"and\" \"sometimes\"\n",
      "\n",
      "1961295 French words.\n",
      "355 unique French words.\n",
      "10 Most common words in the French dataset:\n",
      "\"est\" \".\" \",\" \"en\" \"il\" \"les\" \"mais\" \"et\" \"la\" \"parfois\"\n"
     ]
    }
   ],
   "source": [
    "import collections\n",
    "\n",
    "\n",
    "english_words_counter = collections.Counter([word for sentence in english_sentences for word in sentence.split()])\n",
    "french_words_counter = collections.Counter([word for sentence in french_sentences for word in sentence.split()])\n",
    "\n",
    "print('{} English words.'.format(len([word for sentence in english_sentences for word in sentence.split()])))\n",
    "print('{} unique English words.'.format(len(english_words_counter)))\n",
    "print('10 Most common words in the English dataset:')\n",
    "print('\"' + '\" \"'.join(list(zip(*english_words_counter.most_common(10)))[0]) + '\"')\n",
    "print()\n",
    "print('{} French words.'.format(len([word for sentence in french_sentences for word in sentence.split()])))\n",
    "print('{} unique French words.'.format(len(french_words_counter)))\n",
    "print('10 Most common words in the French dataset:')\n",
    "print('\"' + '\" \"'.join(list(zip(*french_words_counter.most_common(10)))[0]) + '\"')"
   ]
  },
  {
   "cell_type": "markdown",
   "metadata": {},
   "source": [
    "For comparison, _Alice's Adventures in Wonderland_ contains 2,766 unique words of a total of 15,500 words.\n",
    "## Preprocess\n",
    "For this project, you won't use text data as input to your model. Instead, you'll convert the text into sequences of integers using the following preprocess methods:\n",
    "1. Tokenize the words into ids\n",
    "2. Add padding to make all the sequences the same length.\n",
    "\n",
    "Time to start preprocessing the data...\n",
    "### Tokenize (IMPLEMENTATION)\n",
    "For a neural network to predict on text data, it first has to be turned into data it can understand. Text data like \"dog\" is a sequence of ASCII character encodings.  Since a neural network is a series of multiplication and addition operations, the input data needs to be number(s).\n",
    "\n",
    "We can turn each character into a number or each word into a number.  These are called character and word ids, respectively.  Character ids are used for character level models that generate text predictions for each character.  A word level model uses word ids that generate text predictions for each word.  Word level models tend to learn better, since they are lower in complexity, so we'll use those.\n",
    "\n",
    "Turn each sentence into a sequence of words ids using Keras's [`Tokenizer`](https://keras.io/preprocessing/text/#tokenizer) function. Use this function to tokenize `english_sentences` and `french_sentences` in the cell below.\n",
    "\n",
    "Running the cell will run `tokenize` on sample data and show output for debugging."
   ]
  },
  {
   "cell_type": "code",
   "execution_count": 6,
   "metadata": {},
   "outputs": [
    {
     "name": "stdout",
     "output_type": "stream",
     "text": [
      "{'brown': 4, 'study': 13, 'of': 14, 'jove': 11, 'won': 16, 'fox': 5, 'over': 7, 'by': 10, 'lexicography': 15, 'quick': 2, 'a': 3, 'prize': 17, 'short': 20, 'jumps': 6, 'sentence': 21, 'my': 12, 'is': 19, 'dog': 9, 'the': 1, 'this': 18, 'lazy': 8}\n",
      "\n",
      "Sequence 1 in x\n",
      "  Input:  The quick brown fox jumps over the lazy dog .\n",
      "  Output: [1, 2, 4, 5, 6, 7, 1, 8, 9]\n",
      "Sequence 2 in x\n",
      "  Input:  By Jove , my quick study of lexicography won a prize .\n",
      "  Output: [10, 11, 12, 2, 13, 14, 15, 16, 3, 17]\n",
      "Sequence 3 in x\n",
      "  Input:  This is a short sentence .\n",
      "  Output: [18, 19, 3, 20, 21]\n"
     ]
    }
   ],
   "source": [
    "import project_tests as tests\n",
    "from keras.preprocessing.text import Tokenizer\n",
    "\n",
    "\n",
    "def tokenize(x):\n",
    "    \"\"\"\n",
    "    Tokenize x\n",
    "    :param x: List of sentences/strings to be tokenized\n",
    "    :return: Tuple of (tokenized x data, tokenizer used to tokenize x)\n",
    "    \"\"\"\n",
    "    token = Tokenizer()\n",
    "    token.fit_on_texts(x)\n",
    "\n",
    "    output = token.texts_to_sequences(x)\n",
    "    return output, token\n",
    "\n",
    "tests.test_tokenize(tokenize)\n",
    "\n",
    "# Tokenize Example output\n",
    "text_sentences = [\n",
    "    'The quick brown fox jumps over the lazy dog .',\n",
    "    'By Jove , my quick study of lexicography won a prize .',\n",
    "    'This is a short sentence .']\n",
    "text_tokenized, text_tokenizer = tokenize(text_sentences)\n",
    "print(text_tokenizer.word_index)\n",
    "print()\n",
    "for sample_i, (sent, token_sent) in enumerate(zip(text_sentences, text_tokenized)):\n",
    "    print('Sequence {} in x'.format(sample_i + 1))\n",
    "    print('  Input:  {}'.format(sent))\n",
    "    print('  Output: {}'.format(token_sent))"
   ]
  },
  {
   "cell_type": "markdown",
   "metadata": {},
   "source": [
    "### Padding (IMPLEMENTATION)\n",
    "When batching the sequence of word ids together, each sequence needs to be the same length.  Since sentences are dynamic in length, we can add padding to the end of the sequences to make them the same length.\n",
    "\n",
    "Make sure all the English sequences have the same length and all the French sequences have the same length by adding padding to the **end** of each sequence using Keras's [`pad_sequences`](https://keras.io/preprocessing/sequence/#pad_sequences) function."
   ]
  },
  {
   "cell_type": "code",
   "execution_count": 7,
   "metadata": {},
   "outputs": [
    {
     "name": "stdout",
     "output_type": "stream",
     "text": [
      "Sequence 1 in x\n",
      "  Input:  [1 2 4 5 6 7 1 8 9]\n",
      "  Output: [1 2 4 5 6 7 1 8 9 0]\n",
      "Sequence 2 in x\n",
      "  Input:  [10 11 12  2 13 14 15 16  3 17]\n",
      "  Output: [10 11 12  2 13 14 15 16  3 17]\n",
      "Sequence 3 in x\n",
      "  Input:  [18 19  3 20 21]\n",
      "  Output: [18 19  3 20 21  0  0  0  0  0]\n"
     ]
    }
   ],
   "source": [
    "import numpy as np\n",
    "from keras.preprocessing.sequence import pad_sequences\n",
    "\n",
    "\n",
    "def pad(x, length=None):\n",
    "    \"\"\"\n",
    "    Pad x\n",
    "    :param x: List of sequences.\n",
    "    :param length: Length to pad the sequence to.  If None, use length of longest sequence in x.\n",
    "    :return: Padded numpy array of sequences\n",
    "    \"\"\"\n",
    "    if length is None:\n",
    "        length = max([len(sentence) for sentence in x])\n",
    "    output = pad_sequences(x, maxlen=length, padding='post')\n",
    "    return output\n",
    "\n",
    "tests.test_pad(pad)\n",
    "\n",
    "# Pad Tokenized output\n",
    "test_pad = pad(text_tokenized)\n",
    "for sample_i, (token_sent, pad_sent) in enumerate(zip(text_tokenized, test_pad)):\n",
    "    print('Sequence {} in x'.format(sample_i + 1))\n",
    "    print('  Input:  {}'.format(np.array(token_sent)))\n",
    "    print('  Output: {}'.format(pad_sent))"
   ]
  },
  {
   "cell_type": "markdown",
   "metadata": {},
   "source": [
    "### Preprocess Pipeline\n",
    "Your focus for this project is to build neural network architecture, so we won't ask you to create a preprocess pipeline.  Instead, we've provided you with the implementation of the `preprocess` function."
   ]
  },
  {
   "cell_type": "code",
   "execution_count": 8,
   "metadata": {},
   "outputs": [
    {
     "name": "stdout",
     "output_type": "stream",
     "text": [
      "Data Preprocessed\n"
     ]
    }
   ],
   "source": [
    "def preprocess(x, y):\n",
    "    \"\"\"\n",
    "    Preprocess x and y\n",
    "    :param x: Feature List of sentences\n",
    "    :param y: Label List of sentences\n",
    "    :return: Tuple of (Preprocessed x, Preprocessed y, x tokenizer, y tokenizer)\n",
    "    \"\"\"\n",
    "    preprocess_x, x_tk = tokenize(x)\n",
    "    preprocess_y, y_tk = tokenize(y)\n",
    "\n",
    "    preprocess_x = pad(preprocess_x)\n",
    "    preprocess_y = pad(preprocess_y)\n",
    "\n",
    "    # Keras's sparse_categorical_crossentropy function requires the labels to be in 3 dimensions\n",
    "    preprocess_y = preprocess_y.reshape(*preprocess_y.shape, 1)\n",
    "\n",
    "    return preprocess_x, preprocess_y, x_tk, y_tk\n",
    "\n",
    "preproc_english_sentences, preproc_french_sentences, english_tokenizer, french_tokenizer =\\\n",
    "    preprocess(english_sentences, french_sentences)\n",
    "\n",
    "print('Data Preprocessed')"
   ]
  },
  {
   "cell_type": "markdown",
   "metadata": {},
   "source": [
    "## Models\n",
    "In this section, you will experiment with various neural network architectures.\n",
    "You will begin by training four relatively simple architectures.\n",
    "- Model 1 is a simple RNN\n",
    "- Model 2 is a RNN with Embedding\n",
    "- Model 3 is a Bidirectional RNN\n",
    "- Model 4 is an optional Encoder-Decoder RNN\n",
    "\n",
    "After experimenting with the four simple architectures, you will construct a deeper architecture that is designed to outperform all four models.\n",
    "### Ids Back to Text\n",
    "The neural network will be translating the input to words ids, which isn't the final form we want.  We want the French translation.  The function `logits_to_text` will bridge the gab between the logits from the neural network to the French translation.  You'll be using this function to better understand the output of the neural network."
   ]
  },
  {
   "cell_type": "code",
   "execution_count": 5,
   "metadata": {},
   "outputs": [
    {
     "name": "stdout",
     "output_type": "stream",
     "text": [
      "`logits_to_text` function loaded.\n"
     ]
    }
   ],
   "source": [
    "def logits_to_text(logits, tokenizer):\n",
    "    \"\"\"\n",
    "    Turn logits from a neural network into text using the tokenizer\n",
    "    :param logits: Logits from a neural network\n",
    "    :param tokenizer: Keras Tokenizer fit on the labels\n",
    "    :return: String that represents the text of the logits\n",
    "    \"\"\"\n",
    "    index_to_words = {id: word for word, id in tokenizer.word_index.items()}\n",
    "    index_to_words[0] = '<PAD>'\n",
    "\n",
    "    return ' '.join([index_to_words[prediction] for prediction in np.argmax(logits, 1)])\n",
    "\n",
    "print('`logits_to_text` function loaded.')"
   ]
  },
  {
   "cell_type": "markdown",
   "metadata": {},
   "source": [
    "### Model 1: RNN (IMPLEMENTATION)\n",
    "![RNN](images/rnn.png)\n",
    "A basic RNN model is a good baseline for sequence data.  In this model, you'll build a RNN that translates English to French."
   ]
  },
  {
   "cell_type": "code",
   "execution_count": 9,
   "metadata": {},
   "outputs": [
    {
     "name": "stderr",
     "output_type": "stream",
     "text": [
      "/usr/local/lib/python3.5/dist-packages/ipykernel_launcher.py:22: UserWarning: Update your `Model` call to the Keras 2 API: `Model(inputs=Tensor(\"in..., outputs=Tensor(\"ti...)`\n"
     ]
    },
    {
     "name": "stdout",
     "output_type": "stream",
     "text": [
      "Train on 110288 samples, validate on 27573 samples\n",
      "Epoch 1/10\n",
      "110288/110288 [==============================] - 35s - loss: 2.4277 - acc: 0.4977 - val_loss: 1.7269 - val_acc: 0.5745\n",
      "Epoch 2/10\n",
      "110288/110288 [==============================] - 14s - loss: 1.5464 - acc: 0.5973 - val_loss: 1.4217 - val_acc: 0.6135\n",
      "Epoch 3/10\n",
      "110288/110288 [==============================] - 14s - loss: 1.3503 - acc: 0.6230 - val_loss: 1.2853 - val_acc: 0.6299\n",
      "Epoch 4/10\n",
      "110288/110288 [==============================] - 14s - loss: 1.2352 - acc: 0.6407 - val_loss: 1.1855 - val_acc: 0.6494\n",
      "Epoch 5/10\n",
      "110288/110288 [==============================] - 14s - loss: 1.1529 - acc: 0.6568 - val_loss: 1.1181 - val_acc: 0.6660\n",
      "Epoch 6/10\n",
      "110288/110288 [==============================] - 14s - loss: 1.0908 - acc: 0.6695 - val_loss: 1.0684 - val_acc: 0.6703\n",
      "Epoch 7/10\n",
      "110288/110288 [==============================] - 14s - loss: 1.0395 - acc: 0.6761 - val_loss: 1.0195 - val_acc: 0.6821\n",
      "Epoch 8/10\n",
      "110288/110288 [==============================] - 14s - loss: 0.9963 - acc: 0.6826 - val_loss: 0.9773 - val_acc: 0.6850\n",
      "Epoch 9/10\n",
      "110288/110288 [==============================] - 14s - loss: 0.9625 - acc: 0.6877 - val_loss: 0.9449 - val_acc: 0.6911\n",
      "Epoch 10/10\n",
      "110288/110288 [==============================] - 14s - loss: 0.9315 - acc: 0.6941 - val_loss: 0.9208 - val_acc: 0.6989\n",
      "new jersey est parfois chaud en mois de il il il est en en <PAD> <PAD> <PAD> <PAD> <PAD> <PAD> <PAD>\n"
     ]
    }
   ],
   "source": [
    "from keras.layers import GRU, Input, Dense, TimeDistributed\n",
    "from keras.models import Model\n",
    "from keras.layers import Activation\n",
    "from keras.optimizers import Adam\n",
    "from keras.losses import sparse_categorical_crossentropy\n",
    "\n",
    "\n",
    "def simple_model(input_shape, output_sequence_length, english_vocab_size, french_vocab_size):\n",
    "    \"\"\"\n",
    "    Build and train a basic RNN on x and y\n",
    "    :param input_shape: Tuple of input shape\n",
    "    :param output_sequence_length: Length of output sequence\n",
    "    :param english_vocab_size: Number of unique English words in the dataset\n",
    "    :param french_vocab_size: Number of unique French words in the dataset\n",
    "    :return: Keras model built, but not trained\n",
    "    \"\"\"\n",
    "    learning_rate = 0.001\n",
    "    \n",
    "    input_layer = Input(shape=input_shape[1:])\n",
    "    hidden_layer = GRU(french_vocab_size, return_sequences=True)(input_layer)\n",
    "    output_layer = TimeDistributed(Dense(french_vocab_size, activation='softmax'))(hidden_layer)\n",
    "    model = Model(input=input_layer, output=output_layer)\n",
    "    \n",
    "    model.compile(loss=sparse_categorical_crossentropy,\n",
    "                  optimizer=Adam(learning_rate),\n",
    "                  metrics=['accuracy'])\n",
    "    return model\n",
    "tests.test_simple_model(simple_model)\n",
    "\n",
    "\n",
    "# Reshaping the input to work with a basic RNN\n",
    "tmp_x = pad(preproc_english_sentences, preproc_french_sentences.shape[1])\n",
    "tmp_x = tmp_x.reshape((-1, preproc_french_sentences.shape[-2], 1))\n",
    "\n",
    "# Train the neural network\n",
    "simple_rnn_model = simple_model(\n",
    "    tmp_x.shape,\n",
    "    preproc_french_sentences.shape[1],\n",
    "    len(english_tokenizer.word_index) + 1,\n",
    "    len(french_tokenizer.word_index) + 1)\n",
    "simple_rnn_model.fit(tmp_x, preproc_french_sentences, batch_size=1024, epochs=10, validation_split=0.2)\n",
    "\n",
    "# Print prediction(s)\n",
    "print(logits_to_text(simple_rnn_model.predict(tmp_x[:1])[0], french_tokenizer))"
   ]
  },
  {
   "cell_type": "markdown",
   "metadata": {},
   "source": [
    "### Model 2: Embedding (IMPLEMENTATION)\n",
    "![RNN](images/embedding.png)\n",
    "You've turned the words into ids, but there's a better representation of a word.  This is called word embeddings.  An embedding is a vector representation of the word that is close to similar words in n-dimensional space, where the n represents the size of the embedding vectors.\n",
    "\n",
    "In this model, you'll create a RNN model using embedding."
   ]
  },
  {
   "cell_type": "code",
   "execution_count": 11,
   "metadata": {},
   "outputs": [
    {
     "name": "stderr",
     "output_type": "stream",
     "text": [
      "/usr/local/lib/python3.5/dist-packages/ipykernel_launcher.py:19: UserWarning: Update your `Model` call to the Keras 2 API: `Model(inputs=Tensor(\"in..., outputs=Tensor(\"ti...)`\n"
     ]
    },
    {
     "name": "stdout",
     "output_type": "stream",
     "text": [
      "Train on 110288 samples, validate on 27573 samples\n",
      "Epoch 1/10\n",
      "110288/110288 [==============================] - 18s - loss: 2.8280 - acc: 0.4739 - val_loss: 1.7585 - val_acc: 0.5877\n",
      "Epoch 2/10\n",
      "110288/110288 [==============================] - 17s - loss: 1.2679 - acc: 0.6980 - val_loss: 0.9188 - val_acc: 0.7704\n",
      "Epoch 3/10\n",
      "110288/110288 [==============================] - 18s - loss: 0.7292 - acc: 0.8030 - val_loss: 0.5861 - val_acc: 0.8308\n",
      "Epoch 4/10\n",
      "110288/110288 [==============================] - 18s - loss: 0.5039 - acc: 0.8501 - val_loss: 0.4481 - val_acc: 0.8660\n",
      "Epoch 5/10\n",
      "110288/110288 [==============================] - 18s - loss: 0.3968 - acc: 0.8779 - val_loss: 0.3599 - val_acc: 0.8877\n",
      "Epoch 6/10\n",
      "110288/110288 [==============================] - 18s - loss: 0.3324 - acc: 0.8954 - val_loss: 0.3109 - val_acc: 0.9024\n",
      "Epoch 7/10\n",
      "110288/110288 [==============================] - 18s - loss: 0.2941 - acc: 0.9062 - val_loss: 0.2820 - val_acc: 0.9097\n",
      "Epoch 8/10\n",
      "110288/110288 [==============================] - 18s - loss: 0.2649 - acc: 0.9146 - val_loss: 0.2591 - val_acc: 0.9157\n",
      "Epoch 9/10\n",
      "110288/110288 [==============================] - 18s - loss: 0.2457 - acc: 0.9197 - val_loss: 0.2379 - val_acc: 0.9226\n",
      "Epoch 10/10\n",
      "110288/110288 [==============================] - 18s - loss: 0.2306 - acc: 0.9239 - val_loss: 0.2290 - val_acc: 0.9246\n",
      "new jersey est parfois calme en l' automne et il est neigeux en avril <PAD> <PAD> <PAD> <PAD> <PAD> <PAD> <PAD>\n"
     ]
    }
   ],
   "source": [
    "from keras.layers.embeddings import Embedding\n",
    "\n",
    "\n",
    "def embed_model(input_shape, output_sequence_length, english_vocab_size, french_vocab_size):\n",
    "    \"\"\"\n",
    "    Build and train a RNN model using word embedding on x and y\n",
    "    :param input_shape: Tuple of input shape\n",
    "    :param output_sequence_length: Length of output sequence\n",
    "    :param english_vocab_size: Number of unique English words in the dataset\n",
    "    :param french_vocab_size: Number of unique French words in the dataset\n",
    "    :return: Keras model built, but not trained\n",
    "    \"\"\"\n",
    "    learning_rate = 0.001\n",
    "    \n",
    "    input_layer = Input(shape=input_shape[1:])\n",
    "    embedding_layer = Embedding(input_dim=english_vocab_size, output_dim=french_vocab_size)(input_layer)\n",
    "    hidden_layer = GRU(french_vocab_size, return_sequences=True)(embedding_layer)\n",
    "    output_layer = TimeDistributed(Dense(french_vocab_size, activation='softmax'))(hidden_layer)\n",
    "    model = Model(input=input_layer, output=output_layer)\n",
    "    \n",
    "    model.compile(loss=sparse_categorical_crossentropy,\n",
    "                  optimizer=Adam(learning_rate),\n",
    "                  metrics=['accuracy'])\n",
    "    return model\n",
    "\n",
    "tests.test_embed_model(embed_model)\n",
    "\n",
    "# Reshaping the input\n",
    "tmp_x_embed = pad(preproc_english_sentences, preproc_french_sentences.shape[1])\n",
    "\n",
    "# Train the neural network\n",
    "embed_rnn_model = embed_model(\n",
    "    tmp_x_embed.shape,\n",
    "    preproc_french_sentences.shape[1],\n",
    "    len(english_tokenizer.word_index) + 1,\n",
    "    len(french_tokenizer.word_index) + 1)\n",
    "\n",
    "embed_rnn_model.fit(tmp_x_embed, preproc_french_sentences, batch_size=1024, epochs=10, validation_split=0.2)\n",
    "\n",
    "# Print prediction(s)\n",
    "print(logits_to_text(embed_rnn_model.predict(tmp_x_embed[:1])[0], french_tokenizer))"
   ]
  },
  {
   "cell_type": "markdown",
   "metadata": {},
   "source": [
    "### Model 3: Bidirectional RNNs (IMPLEMENTATION)\n",
    "![RNN](images/bidirectional.png)\n",
    "One restriction of a RNN is that it can't see the future input, only the past.  This is where bidirectional recurrent neural networks come in.  They are able to see the future data."
   ]
  },
  {
   "cell_type": "code",
   "execution_count": 12,
   "metadata": {},
   "outputs": [
    {
     "name": "stderr",
     "output_type": "stream",
     "text": [
      "/usr/local/lib/python3.5/dist-packages/ipykernel_launcher.py:18: UserWarning: Update your `Model` call to the Keras 2 API: `Model(inputs=Tensor(\"in..., outputs=Tensor(\"ti...)`\n"
     ]
    },
    {
     "name": "stdout",
     "output_type": "stream",
     "text": [
      "Train on 110288 samples, validate on 27573 samples\n",
      "Epoch 1/10\n",
      "110288/110288 [==============================] - 33s - loss: 1.6679 - acc: 0.5949 - val_loss: 1.2451 - val_acc: 0.6463\n",
      "Epoch 2/10\n",
      "110288/110288 [==============================] - 32s - loss: 1.1426 - acc: 0.6643 - val_loss: 1.0589 - val_acc: 0.6835\n",
      "Epoch 3/10\n",
      "110288/110288 [==============================] - 32s - loss: 0.9991 - acc: 0.6907 - val_loss: 0.9551 - val_acc: 0.6947\n",
      "Epoch 4/10\n",
      "110288/110288 [==============================] - 32s - loss: 0.9103 - acc: 0.7053 - val_loss: 0.8743 - val_acc: 0.7112\n",
      "Epoch 5/10\n",
      "110288/110288 [==============================] - 32s - loss: 0.8455 - acc: 0.7179 - val_loss: 0.8243 - val_acc: 0.7255\n",
      "Epoch 6/10\n",
      "110288/110288 [==============================] - 32s - loss: 0.7922 - acc: 0.7309 - val_loss: 0.7650 - val_acc: 0.7412\n",
      "Epoch 7/10\n",
      "110288/110288 [==============================] - 32s - loss: 0.7413 - acc: 0.7463 - val_loss: 0.7135 - val_acc: 0.7564\n",
      "Epoch 8/10\n",
      "110288/110288 [==============================] - 32s - loss: 0.6901 - acc: 0.7671 - val_loss: 0.6643 - val_acc: 0.7806\n",
      "Epoch 9/10\n",
      "110288/110288 [==============================] - 32s - loss: 0.6405 - acc: 0.7889 - val_loss: 0.6243 - val_acc: 0.7928\n",
      "Epoch 10/10\n",
      "110288/110288 [==============================] - 32s - loss: 0.5983 - acc: 0.8066 - val_loss: 0.5842 - val_acc: 0.8127\n",
      "new jersey est parfois calme au mois de il et neigeux est en en <PAD> <PAD> <PAD> <PAD> <PAD> <PAD> <PAD>\n"
     ]
    }
   ],
   "source": [
    "from keras.layers import Bidirectional\n",
    "\n",
    "\n",
    "def bd_model(input_shape, output_sequence_length, english_vocab_size, french_vocab_size):\n",
    "    \"\"\"\n",
    "    Build and train a bidirectional RNN model on x and y\n",
    "    :param input_shape: Tuple of input shape\n",
    "    :param output_sequence_length: Length of output sequence\n",
    "    :param english_vocab_size: Number of unique English words in the dataset\n",
    "    :param french_vocab_size: Number of unique French words in the dataset\n",
    "    :return: Keras model built, but not trained\n",
    "    \"\"\"\n",
    "    learning_rate = 0.001\n",
    "    \n",
    "    input_layer = Input(shape=input_shape[1:])\n",
    "    bi_dir = Bidirectional(GRU(french_vocab_size, return_sequences=True))(input_layer)\n",
    "    output_layer = TimeDistributed(Dense(french_vocab_size, activation='softmax'))(bi_dir)\n",
    "    model = Model(input=input_layer, output=output_layer)\n",
    "    \n",
    "    model.compile(loss=sparse_categorical_crossentropy,\n",
    "                  optimizer=Adam(learning_rate),\n",
    "                  metrics=['accuracy'])\n",
    "    return model\n",
    "\n",
    "tests.test_bd_model(bd_model)\n",
    "\n",
    "\n",
    "bi_dir_rnn_model = bd_model(\n",
    "    tmp_x.shape,\n",
    "    preproc_french_sentences.shape[1],\n",
    "    len(english_tokenizer.word_index) + 1,\n",
    "    len(french_tokenizer.word_index) + 1)\n",
    "\n",
    "bi_dir_rnn_model.fit(tmp_x, preproc_french_sentences, batch_size=512, epochs=10, validation_split=0.2)\n",
    "\n",
    "# Print prediction(s)\n",
    "print(logits_to_text(bi_dir_rnn_model.predict(tmp_x[:1])[0], french_tokenizer))"
   ]
  },
  {
   "cell_type": "markdown",
   "metadata": {},
   "source": [
    "### Model 4: Encoder-Decoder (OPTIONAL)\n",
    "Time to look at encoder-decoder models.  This model is made up of an encoder and decoder. The encoder creates a matrix representation of the sentence.  The decoder takes this matrix as input and predicts the translation as output.\n",
    "\n",
    "Create an encoder-decoder model in the cell below."
   ]
  },
  {
   "cell_type": "code",
   "execution_count": 13,
   "metadata": {},
   "outputs": [
    {
     "name": "stdout",
     "output_type": "stream",
     "text": [
      "Train on 110288 samples, validate on 27573 samples\n",
      "Epoch 1/10\n",
      "110288/110288 [==============================] - 34s - loss: 2.4866 - acc: 0.4862 - val_loss: 1.8657 - val_acc: 0.5506\n",
      "Epoch 2/10\n",
      "110288/110288 [==============================] - 33s - loss: 1.6442 - acc: 0.5691 - val_loss: 1.4962 - val_acc: 0.5936\n",
      "Epoch 3/10\n",
      "110288/110288 [==============================] - 33s - loss: 1.3988 - acc: 0.6143 - val_loss: 1.3129 - val_acc: 0.6316\n",
      "Epoch 4/10\n",
      "110288/110288 [==============================] - 33s - loss: 1.2974 - acc: 0.6320 - val_loss: 1.2651 - val_acc: 0.6361\n",
      "Epoch 5/10\n",
      "110288/110288 [==============================] - 33s - loss: 1.2384 - acc: 0.6411 - val_loss: 1.2130 - val_acc: 0.6449\n",
      "Epoch 6/10\n",
      "110288/110288 [==============================] - 33s - loss: 1.1982 - acc: 0.6462 - val_loss: 1.1606 - val_acc: 0.6527\n",
      "Epoch 7/10\n",
      "110288/110288 [==============================] - 33s - loss: 1.1358 - acc: 0.6576 - val_loss: 1.1121 - val_acc: 0.6583\n",
      "Epoch 8/10\n",
      "110288/110288 [==============================] - 33s - loss: 1.0931 - acc: 0.6668 - val_loss: 1.0743 - val_acc: 0.6671\n",
      "Epoch 9/10\n",
      "110288/110288 [==============================] - 33s - loss: 1.0100 - acc: 0.6857 - val_loss: 0.9618 - val_acc: 0.6937\n",
      "Epoch 10/10\n",
      "110288/110288 [==============================] - 33s - loss: 0.9475 - acc: 0.6985 - val_loss: 0.9471 - val_acc: 0.7003\n",
      "new jersey est parfois calme au mois de il est il en en <PAD> <PAD> <PAD> <PAD> <PAD> <PAD> <PAD> <PAD>\n"
     ]
    }
   ],
   "source": [
    "from keras.layers import RepeatVector\n",
    "\n",
    "\n",
    "def encdec_model(input_shape, output_sequence_length, english_vocab_size, french_vocab_size):\n",
    "    \"\"\"\n",
    "    Build and train an encoder-decoder model on x and y\n",
    "    :param input_shape: Tuple of input shape\n",
    "    :param output_sequence_length: Length of output sequence\n",
    "    :param english_vocab_size: Number of unique English words in the dataset\n",
    "    :param french_vocab_size: Number of unique French words in the dataset\n",
    "    :return: Keras model built, but not trained\n",
    "    \"\"\"\n",
    "    learning_rate=0.001\n",
    "    \n",
    "    inputs=Input(shape=input_shape[1:])\n",
    "    hidden_layer=GRU(french_vocab_size)(inputs)\n",
    "    hidden_layer=RepeatVector(output_sequence_length)(hidden_layer)\n",
    "    hidden_layer=GRU(french_vocab_size,return_sequences=True)(hidden_layer)\n",
    "    predictions=TimeDistributed(Dense(french_vocab_size,activation=\"softmax\"))(hidden_layer)    \n",
    "    model = Model(inputs=inputs, outputs=predictions)\n",
    "    \n",
    "    model.compile(loss=sparse_categorical_crossentropy,\n",
    "                  optimizer=Adam(learning_rate),\n",
    "                  metrics=['accuracy'])\n",
    "    return model\n",
    "\n",
    "tests.test_encdec_model(encdec_model)\n",
    "\n",
    "encdec_rnn_model = encdec_model(\n",
    "    tmp_x.shape,\n",
    "    preproc_french_sentences.shape[1],\n",
    "    len(english_tokenizer.word_index) + 1,\n",
    "    len(french_tokenizer.word_index) + 1)\n",
    "\n",
    "encdec_rnn_model.fit(tmp_x, preproc_french_sentences, batch_size=512, epochs=10, validation_split=0.2)\n",
    "print(logits_to_text(encdec_rnn_model.predict(tmp_x[:1])[0], french_tokenizer))"
   ]
  },
  {
   "cell_type": "markdown",
   "metadata": {},
   "source": [
    "### Model 5: Custom (IMPLEMENTATION)\n",
    "Use everything you learned from the previous models to create a model that incorporates embedding and a bidirectional rnn into one model."
   ]
  },
  {
   "cell_type": "code",
   "execution_count": 14,
   "metadata": {},
   "outputs": [
    {
     "name": "stdout",
     "output_type": "stream",
     "text": [
      "Final Model Loaded\n"
     ]
    },
    {
     "name": "stderr",
     "output_type": "stream",
     "text": [
      "/usr/local/lib/python3.5/dist-packages/ipykernel_launcher.py:19: UserWarning: Update your `Model` call to the Keras 2 API: `Model(inputs=Tensor(\"in..., outputs=Tensor(\"ti...)`\n"
     ]
    }
   ],
   "source": [
    "def model_final(input_shape, output_sequence_length, english_vocab_size, french_vocab_size):\n",
    "    \"\"\"\n",
    "    Build and train a model that incorporates embedding, encoder-decoder, and bidirectional RNN on x and y\n",
    "    :param input_shape: Tuple of input shape\n",
    "    :param output_sequence_length: Length of output sequence\n",
    "    :param english_vocab_size: Number of unique English words in the dataset\n",
    "    :param french_vocab_size: Number of unique French words in the dataset\n",
    "    :return: Keras model built, but not trained\n",
    "    \"\"\"\n",
    "    # TODO: Implement\n",
    "    learning_rate = 0.001\n",
    "    \n",
    "    input_layer = Input(shape=input_shape[1:])\n",
    "    embedding_layer = Embedding(input_dim=english_vocab_size, output_dim=french_vocab_size)(input_layer)\n",
    "    bi_dir = Bidirectional(GRU(french_vocab_size))(embedding_layer)\n",
    "    hidden_layer = RepeatVector(output_sequence_length)(bi_dir)\n",
    "    bi_dir = Bidirectional(GRU(french_vocab_size, return_sequences=True))(hidden_layer)\n",
    "    output_layer = TimeDistributed(Dense(french_vocab_size, activation='softmax'))(bi_dir)\n",
    "    model = Model(input=input_layer, output=output_layer)\n",
    "    \n",
    "    model.compile(loss=sparse_categorical_crossentropy,\n",
    "                  optimizer=Adam(learning_rate),\n",
    "                  metrics=['accuracy'])\n",
    "    return model\n",
    "\n",
    "tests.test_model_final(model_final)\n",
    "\n",
    "\n",
    "print('Final Model Loaded')"
   ]
  },
  {
   "cell_type": "markdown",
   "metadata": {},
   "source": [
    "## Prediction (IMPLEMENTATION)"
   ]
  },
  {
   "cell_type": "code",
   "execution_count": 16,
   "metadata": {},
   "outputs": [
    {
     "name": "stderr",
     "output_type": "stream",
     "text": [
      "/usr/local/lib/python3.5/dist-packages/ipykernel_launcher.py:19: UserWarning: Update your `Model` call to the Keras 2 API: `Model(inputs=Tensor(\"in..., outputs=Tensor(\"ti...)`\n"
     ]
    },
    {
     "name": "stdout",
     "output_type": "stream",
     "text": [
      "Train on 110288 samples, validate on 27573 samples\n",
      "Epoch 1/20\n",
      "110288/110288 [==============================] - 70s - loss: 1.9300 - acc: 0.5552 - val_loss: 1.2876 - val_acc: 0.6585\n",
      "Epoch 2/20\n",
      "110288/110288 [==============================] - 68s - loss: 1.0513 - acc: 0.7090 - val_loss: 0.8671 - val_acc: 0.7527\n",
      "Epoch 3/20\n",
      "110288/110288 [==============================] - 68s - loss: 0.7328 - acc: 0.7850 - val_loss: 0.6309 - val_acc: 0.8128\n",
      "Epoch 4/20\n",
      "110288/110288 [==============================] - 68s - loss: 0.5240 - acc: 0.8458 - val_loss: 0.4399 - val_acc: 0.8731\n",
      "Epoch 5/20\n",
      "110288/110288 [==============================] - 68s - loss: 0.3525 - acc: 0.9002 - val_loss: 0.2963 - val_acc: 0.9160\n",
      "Epoch 6/20\n",
      "110288/110288 [==============================] - 68s - loss: 0.2395 - acc: 0.9330 - val_loss: 0.2214 - val_acc: 0.9358\n",
      "Epoch 7/20\n",
      "110288/110288 [==============================] - 68s - loss: 0.1773 - acc: 0.9495 - val_loss: 0.1598 - val_acc: 0.9542\n",
      "Epoch 8/20\n",
      "110288/110288 [==============================] - 68s - loss: 0.1412 - acc: 0.9589 - val_loss: 0.1349 - val_acc: 0.9608\n",
      "Epoch 9/20\n",
      "110288/110288 [==============================] - 68s - loss: 0.1167 - acc: 0.9655 - val_loss: 0.1201 - val_acc: 0.9648\n",
      "Epoch 10/20\n",
      "110288/110288 [==============================] - 68s - loss: 0.0997 - acc: 0.9702 - val_loss: 0.1044 - val_acc: 0.9694\n",
      "Epoch 11/20\n",
      "110288/110288 [==============================] - 68s - loss: 0.0833 - acc: 0.9750 - val_loss: 0.0951 - val_acc: 0.9713\n",
      "Epoch 12/20\n",
      "110288/110288 [==============================] - 68s - loss: 0.0758 - acc: 0.9771 - val_loss: 0.0889 - val_acc: 0.9737\n",
      "Epoch 13/20\n",
      "110288/110288 [==============================] - 68s - loss: 0.0647 - acc: 0.9806 - val_loss: 0.0888 - val_acc: 0.9736\n",
      "Epoch 14/20\n",
      "110288/110288 [==============================] - 68s - loss: 0.0604 - acc: 0.9818 - val_loss: 0.0776 - val_acc: 0.9771\n",
      "Epoch 15/20\n",
      "110288/110288 [==============================] - 68s - loss: 0.0508 - acc: 0.9847 - val_loss: 0.0720 - val_acc: 0.9787\n",
      "Epoch 16/20\n",
      "110288/110288 [==============================] - 68s - loss: 0.0483 - acc: 0.9856 - val_loss: 0.0761 - val_acc: 0.9767\n",
      "Epoch 17/20\n",
      "110288/110288 [==============================] - 68s - loss: 0.0441 - acc: 0.9867 - val_loss: 0.0663 - val_acc: 0.9809\n",
      "Epoch 18/20\n",
      "110288/110288 [==============================] - 68s - loss: 0.0522 - acc: 0.9846 - val_loss: 0.0758 - val_acc: 0.9782\n",
      "Epoch 19/20\n",
      "110288/110288 [==============================] - 68s - loss: 0.0436 - acc: 0.9868 - val_loss: 0.0636 - val_acc: 0.9815\n",
      "Epoch 20/20\n",
      "110288/110288 [==============================] - 68s - loss: 0.0300 - acc: 0.9910 - val_loss: 0.0614 - val_acc: 0.9828\n",
      "Sample 1:\n",
      "il a vu un vieux camion jaune <PAD> <PAD> <PAD> <PAD> <PAD> <PAD> <PAD> <PAD> <PAD> <PAD> <PAD> <PAD> <PAD> <PAD>\n",
      "Il a vu un vieux camion jaune\n",
      "Sample 2:\n",
      "new jersey est parfois calme pendant l' automne et il est neigeux en avril <PAD> <PAD> <PAD> <PAD> <PAD> <PAD> <PAD>\n",
      "<PAD> <PAD> <PAD> <PAD> <PAD> <PAD> <PAD> <PAD> <PAD> <PAD> <PAD> <PAD> <PAD> <PAD> <PAD> <PAD> <PAD> <PAD> <PAD> <PAD> <PAD>\n"
     ]
    }
   ],
   "source": [
    "import numpy as np\n",
    "from keras.preprocessing.sequence import pad_sequences\n",
    "\n",
    "\n",
    "def final_predictions(x, y, x_tk, y_tk):\n",
    "    \"\"\"\n",
    "    Gets predictions using the final model\n",
    "    :param x: Preprocessed English data\n",
    "    :param y: Preprocessed French data\n",
    "    :param x_tk: English tokenizer\n",
    "    :param y_tk: French tokenizer\n",
    "    \"\"\"\n",
    "    # TODO: Train neural network using model_final\n",
    "    model = model_final(x.shape,\n",
    "        y.shape[1],\n",
    "        len(x_tk.word_index) + 1,\n",
    "        len(y_tk.word_index) + 1)\n",
    "\n",
    "    model.fit(x, y, batch_size=512, epochs=20, validation_split=0.2)\n",
    "    \n",
    "    ## DON'T EDIT ANYTHING BELOW THIS LINE\n",
    "    y_id_to_word = {value: key for key, value in y_tk.word_index.items()}\n",
    "    y_id_to_word[0] = '<PAD>'\n",
    "\n",
    "    sentence = 'he saw a old yellow truck'\n",
    "    sentence = [x_tk.word_index[word] for word in sentence.split()]\n",
    "    sentence = pad_sequences([sentence], maxlen=x.shape[-1], padding='post')\n",
    "    sentences = np.array([sentence[0], x[0]])\n",
    "    predictions = model.predict(sentences, len(sentences))\n",
    "\n",
    "    print('Sample 1:')\n",
    "    print(' '.join([y_id_to_word[np.argmax(x)] for x in predictions[0]]))\n",
    "    print('Il a vu un vieux camion jaune')\n",
    "    print('Sample 2:')\n",
    "    print(' '.join([y_id_to_word[np.argmax(x)] for x in predictions[1]]))\n",
    "    print(' '.join([y_id_to_word[np.argmax(x)] for x in y[0]]))\n",
    "\n",
    "\n",
    "final_predictions(preproc_english_sentences, preproc_french_sentences, english_tokenizer, french_tokenizer)"
   ]
  },
  {
   "cell_type": "markdown",
   "metadata": {},
   "source": [
    "## Submission\n",
    "When you are ready to submit your project, do the following steps:\n",
    "1. Ensure you pass all points on the [rubric](https://review.udacity.com/#!/rubrics/1004/view).\n",
    "2. Submit the following in a zip file.\n",
    "  - `helper.py`\n",
    "  - `machine_translation.ipynb`\n",
    "  - `machine_translation.html`\n",
    "    - You can export the notebook by navigating to **File -> Download as -> HTML (.html)**."
   ]
  }
 ],
 "metadata": {
  "kernelspec": {
   "display_name": "Python 3",
   "language": "python",
   "name": "python3"
  },
  "language_info": {
   "codemirror_mode": {
    "name": "ipython",
    "version": 3
   },
   "file_extension": ".py",
   "mimetype": "text/x-python",
   "name": "python",
   "nbconvert_exporter": "python",
   "pygments_lexer": "ipython3",
   "version": "3.5.2"
  }
 },
 "nbformat": 4,
 "nbformat_minor": 1
}
